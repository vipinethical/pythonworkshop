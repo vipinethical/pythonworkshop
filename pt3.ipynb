{
 "cells": [
  {
   "cell_type": "markdown",
   "metadata": {},
   "source": [
    "## ques1 "
   ]
  },
  {
   "cell_type": "code",
   "execution_count": 1,
   "metadata": {},
   "outputs": [
    {
     "name": "stdout",
     "output_type": "stream",
     "text": [
      "enter any number1234\n",
      "\n",
      "product of all digits: 24\n"
     ]
    }
   ],
   "source": [
    "num=int(input(\"enter any number\"))\n",
    "temp=num\n",
    "product=1;\n",
    "while(temp !=0):\n",
    "    product = product*(temp%10);\n",
    "    temp=int(temp/10)\n",
    "print(\"\\nproduct of all digits:\",product)"
   ]
  },
  {
   "cell_type": "markdown",
   "metadata": {},
   "source": [
    "## ques2 "
   ]
  },
  {
   "cell_type": "code",
   "execution_count": 3,
   "metadata": {},
   "outputs": [
    {
     "name": "stdout",
     "output_type": "stream",
     "text": [
      "enter number one123\n",
      "enter number second321\n",
      "first number after swaping 321\n",
      "second number after swapping 123\n"
     ]
    }
   ],
   "source": [
    "a=int(input(\"enter number one\"))\n",
    "b=int(input(\"enter number second\"))\n",
    "a=a+b;\n",
    "b=a-b;\n",
    "a=a-b;\n",
    "print(\"first number after swaping\",a)\n",
    "print(\"second number after swapping\",b)"
   ]
  },
  {
   "cell_type": "markdown",
   "metadata": {},
   "source": [
    "## ques3"
   ]
  },
  {
   "cell_type": "code",
   "execution_count": 6,
   "metadata": {},
   "outputs": [
    {
     "name": "stdout",
     "output_type": "stream",
     "text": [
      "enter a single digit number :8\n",
      "eight\n"
     ]
    }
   ],
   "source": [
    "num=int(input(\"enter a single digit number :\"))\n",
    "if num==1 :\n",
    "    print(\"one\")\n",
    "if num==2 :\n",
    "    print(\"second\")\n",
    "if num==3 :\n",
    "    print(\"three\")\n",
    "if num==4 :\n",
    "    print(\"four\")\n",
    "if num==5 :\n",
    "    print(\"five\")\n",
    "if num==6 :\n",
    "    print(\"six\")\n",
    "if num==7 :\n",
    "    print(\"seven\")\n",
    "if num==8 :\n",
    "    print(\"eight\")\n",
    "if num==9 :\n",
    "    print(\"nine\")\n",
    "    \n",
    "    "
   ]
  },
  {
   "cell_type": "markdown",
   "metadata": {},
   "source": [
    "## ques4\n"
   ]
  },
  {
   "cell_type": "code",
   "execution_count": 9,
   "metadata": {},
   "outputs": [
    {
     "name": "stdout",
     "output_type": "stream",
     "text": [
      "[8, 16]\n"
     ]
    }
   ],
   "source": [
    "tuple1=(1,2,3,4,5,6,7,8,9,10)\n",
    "tuple2=(11,12,13,14,15,16,17,18,19,20)\n",
    "tuple3=tuple1+tuple2\n",
    "a=list(tuple3)\n",
    "b=[]\n",
    "count=0\n",
    "for x in range(0,len(a)):\n",
    "    if a[x]%4==0 and a[x]%8==0:\n",
    "        b.insert(count,a[x])\n",
    "        count=count+1\n",
    "print(b)"
   ]
  },
  {
   "cell_type": "code",
   "execution_count": null,
   "metadata": {},
   "outputs": [],
   "source": []
  }
 ],
 "metadata": {
  "kernelspec": {
   "display_name": "Python 3",
   "language": "python",
   "name": "python3"
  },
  "language_info": {
   "codemirror_mode": {
    "name": "ipython",
    "version": 3
   },
   "file_extension": ".py",
   "mimetype": "text/x-python",
   "name": "python",
   "nbconvert_exporter": "python",
   "pygments_lexer": "ipython3",
   "version": "3.7.3"
  }
 },
 "nbformat": 4,
 "nbformat_minor": 2
}
